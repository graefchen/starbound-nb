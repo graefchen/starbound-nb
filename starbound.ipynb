{
 "cells": [
  {
   "cell_type": "markdown",
   "metadata": {},
   "source": [
    "# Having fun with py-starbound\n",
    "\n",
    "## Imports:"
   ]
  },
  {
   "cell_type": "code",
   "execution_count": null,
   "metadata": {},
   "outputs": [],
   "source": [
    "import glob\n",
    "import starbound as sb\n",
    "\n",
    "import pandas as pd\n",
    "import seaborn as sns"
   ]
  },
  {
   "cell_type": "markdown",
   "metadata": {},
   "source": [
    "## Setting the file source"
   ]
  },
  {
   "cell_type": "code",
   "execution_count": null,
   "metadata": {},
   "outputs": [],
   "source": [
    "import configparser\n",
    "\n",
    "config: configparser.ConfigParser = configparser.ConfigParser()\n",
    "config.read(\"config.ini\")\n",
    "\n",
    "starbound_src_folder: str = config.get('src', 'folder')\n",
    "player_folder: str = f\"{starbound_src_folder}/storage/player\"\n",
    "universe_folder: str = f\"{starbound_src_folder}/storage/universe\""
   ]
  },
  {
   "cell_type": "markdown",
   "metadata": {},
   "source": [
    "## Working with character files:\n",
    "\n",
    "We first load the characters into an *global* array to not need to redo the file operations every time."
   ]
  },
  {
   "cell_type": "code",
   "execution_count": null,
   "metadata": {},
   "outputs": [],
   "source": [
    "players: list[sb.VersionedJSON] = []\n",
    "player_files = list(glob.iglob(f\"{player_folder}/*.player\", recursive=True))\n",
    "\n",
    "for file in player_files:\n",
    "\twith open(file, 'r+b') as fh:\n",
    "\t\tplayer: sb.VersionedJSON = sb.read_sbvj01(fh)\n",
    "\t\tplayers.append(player)"
   ]
  },
  {
   "cell_type": "markdown",
   "metadata": {},
   "source": [
    "### Now a very simple operation to print a specific string to get the characters:"
   ]
  },
  {
   "cell_type": "code",
   "execution_count": null,
   "metadata": {},
   "outputs": [],
   "source": [
    "from utils import playtime_to_string\n",
    "\n",
    "for player in players:\n",
    "\tname: str = player.data['identity']['name']\n",
    "\tgender: str = player.data['identity']['gender']\n",
    "\tspecies: str = player.data['identity']['species']\n",
    "\tplaytime = playtime_to_string(player.data['log']['playTime'])\n",
    "\tprint(f'You got a {gender} {species.title()} with the name: \"{name}\" that you played for: {playtime}')"
   ]
  },
  {
   "cell_type": "markdown",
   "metadata": {},
   "source": [
    "### Dumping the JSON Data into a json file:"
   ]
  },
  {
   "cell_type": "code",
   "execution_count": null,
   "metadata": {},
   "outputs": [],
   "source": [
    "# import json\n",
    "\n",
    "# for player in players:\n",
    "# \tname: str = player.data['identity']['name']\n",
    "# \twith open(f'{name}.json', 'w', encoding='utf-8') as f:\n",
    "# \t\tjson.dump(player.data, f, ensure_ascii=False, indent=4)"
   ]
  },
  {
   "cell_type": "markdown",
   "metadata": {},
   "source": [
    "## Working with world files:\n",
    "\n",
    "We first load the worlds into an *global* array to not need to redo the file operations every time."
   ]
  },
  {
   "cell_type": "code",
   "execution_count": null,
   "metadata": {},
   "outputs": [],
   "source": [
    "import mmap\n",
    "\n",
    "worlds: list[sb.World] = []\n",
    "\n",
    "world_files = list(glob.iglob(f\"{universe_folder}/*_*_*.world\", recursive=True))\n",
    "for file in world_files:\n",
    "\twith open(file, 'r+b') as fh:\n",
    "\t\tmm: mmap = mmap.mmap(fh.fileno(), 0, access=mmap.ACCESS_READ)\n",
    "\t\tworld: sb.World = sb.World(mm)\n",
    "\t\t# world.read_metadata()\n",
    "\t\tworlds.append(world)"
   ]
  },
  {
   "cell_type": "markdown",
   "metadata": {},
   "source": [
    "### Printing all the important world details"
   ]
  },
  {
   "cell_type": "code",
   "execution_count": null,
   "metadata": {},
   "outputs": [],
   "source": [
    "from utils import strip_colors\n",
    "\n",
    "for world in worlds:\n",
    "\tprint(f'World Name: {strip_colors(world.info.name)}')\n",
    "\tprint(f'World size: {world.width}×{world.height}')\n",
    "\tprint(f'World Description: {world.info.description}')\n",
    "\tprint(f'--------------------------------------------------------------------------------')\n",
    "\t# x, y = world.metadata['playerStart']\n",
    "\t# print(f'Player spawns at ({x}, {y})')\n",
    "\t# Some funny stuff with getting entities...\n",
    "\t# try:\n",
    "\t# \trx, ry = x // 32, y // 32\n",
    "\t# \t# print(f'Spawn Region is: ({rx}, {ry})')\n",
    "\t# \tentities = world.get_entities(int(rx), int(ry))\n",
    "\t# \tfor entity in entities:\n",
    "\t# \t\tif entity.name == 'ObjectEntity':\n",
    "\t# \t\t\titems = entity.data.get(\"items\")\n",
    "\t# \t\t\tfor item in items:\n",
    "\t# \t\t\t\tif item == None:\n",
    "\t# \t\t\t\t\tbreak\n",
    "\t# \t\t\t\tprint(item)\n",
    "\t# # Just ignoring all Exceptions...\n",
    "\t# except Exception:\n",
    "\t# \tpass"
   ]
  },
  {
   "cell_type": "markdown",
   "metadata": {},
   "source": [
    "### Getting the Amount of dungeons"
   ]
  },
  {
   "cell_type": "code",
   "execution_count": null,
   "metadata": {},
   "outputs": [],
   "source": [
    "known_dungeons: dict[str, int] = {}\n",
    "\n",
    "for world in worlds:\n",
    "\tdungeons: list[str] = world.info.dungeons\n",
    "\tfor dungeon in dungeons:\n",
    "\t\tif dungeon in known_dungeons:\n",
    "\t\t\tknown_dungeons[dungeon] = known_dungeons[dungeon] + 1\n",
    "\t\telse:\n",
    "\t\t\tknown_dungeons[dungeon] = 1\n",
    "\n",
    "dungeons = pd.Series(data=known_dungeons).explode().reset_index(name=\"times\").rename(columns={\"index\": \"dungeons\"}).sort_values(\"times\")\n",
    "\n",
    "sns.catplot(\n",
    "\tdata=dungeons,\n",
    "\tkind=\"bar\",\n",
    "\tx=\"times\",\n",
    "\ty=\"dungeons\",\n",
    "\theight=10\n",
    ")"
   ]
  },
  {
   "cell_type": "markdown",
   "metadata": {},
   "source": [
    "### Getting the amount of biomes"
   ]
  },
  {
   "cell_type": "code",
   "execution_count": null,
   "metadata": {},
   "outputs": [],
   "source": [
    "\n",
    "known_biomes: dict[str, int]  = {}\n",
    "\n",
    "for world in worlds:\n",
    "\tbiomes: list[str] = world.info.biomes\n",
    "\tfor biome in biomes:\n",
    "\t\tif \"underground\" in biome or \"asteroids\" in biome or \"atmosphere\" in biome or \"core\" in biome or \"oceanfloor\" in biome or \"rust\" in biome:\n",
    "\t\t\tcontinue\n",
    "\t\tif biome in known_biomes:\n",
    "\t\t\tknown_biomes[biome] = known_biomes[biome] + 1\n",
    "\t\telse:\n",
    "\t\t\tknown_biomes[biome] = 1\n",
    "\n",
    "biomes = pd.Series(data=known_biomes).explode().reset_index(name=\"times\").rename(columns={\"index\": \"biomes\"}).sort_values(\"times\")\n",
    "\n",
    "sns.catplot(\n",
    "\tdata=biomes,\n",
    "\tkind=\"bar\",\n",
    "\tx=\"times\",\n",
    "\ty=\"biomes\",\n",
    "\theight=10\n",
    ")"
   ]
  }
 ],
 "metadata": {
  "kernelspec": {
   "display_name": "Python 3",
   "language": "python",
   "name": "python3"
  },
  "language_info": {
   "codemirror_mode": {
    "name": "ipython",
    "version": 3
   },
   "file_extension": ".py",
   "mimetype": "text/x-python",
   "name": "python",
   "nbconvert_exporter": "python",
   "pygments_lexer": "ipython3",
   "version": "3.12.3"
  }
 },
 "nbformat": 4,
 "nbformat_minor": 2
}
