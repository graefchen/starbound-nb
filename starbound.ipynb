{
 "cells": [
  {
   "cell_type": "markdown",
   "metadata": {},
   "source": [
    "# Having fun with py-starbound\n",
    "\n",
    "## Imports:"
   ]
  },
  {
   "cell_type": "code",
   "execution_count": null,
   "metadata": {},
   "outputs": [],
   "source": [
    "import glob\n",
    "import starbound as sb\n",
    "\n",
    "import pandas as pd\n",
    "import seaborn as sns"
   ]
  },
  {
   "cell_type": "markdown",
   "metadata": {},
   "source": [
    "## Setting the file source"
   ]
  },
  {
   "cell_type": "code",
   "execution_count": null,
   "metadata": {},
   "outputs": [],
   "source": [
    "import configparser\n",
    "\n",
    "config: configparser.ConfigParser = configparser.ConfigParser()\n",
    "config.read(\"config.ini\")\n",
    "\n",
    "starbound_src_folder: str = config.get('src', 'folder')\n",
    "player_folder: str = f\"{starbound_src_folder}/storage/player\"\n",
    "universe_folder: str = f\"{starbound_src_folder}/storage/universe\""
   ]
  },
  {
   "cell_type": "markdown",
   "metadata": {},
   "source": [
    "## Working with character files:\n",
    "\n",
    "We first load the characters into an *global* array to not need to redo the file operations every time."
   ]
  },
  {
   "cell_type": "code",
   "execution_count": null,
   "metadata": {},
   "outputs": [],
   "source": [
    "players: list[sb.VersionedJSON] = []\n",
    "player_files = list(glob.iglob(f\"{player_folder}/*.player\", recursive=True))\n",
    "\n",
    "for file in player_files:\n",
    "\twith open(file, 'r+b') as fh:\n",
    "\t\tplayer: sb.VersionedJSON = sb.read_sbvj01(fh)\n",
    "\t\tplayers.append(player)"
   ]
  },
  {
   "cell_type": "markdown",
   "metadata": {},
   "source": [
    "### Now a very simple operation to print a specific string to get the characters:"
   ]
  },
  {
   "cell_type": "code",
   "execution_count": null,
   "metadata": {},
   "outputs": [],
   "source": [
    "from utils import playtime_to_string\n",
    "\n",
    "for player in players:\n",
    "\tname: str = player.data['identity']['name']\n",
    "\tgender: str = player.data['identity']['gender']\n",
    "\tspecies: str = player.data['identity']['species']\n",
    "\tplaytime = playtime_to_string(player.data['log']['playTime'])\n",
    "\tprint(f'You got a {gender:>6} {species.title():>11} with the name: {name:>8} that you played for: {playtime}')"
   ]
  },
  {
   "cell_type": "markdown",
   "metadata": {},
   "source": [
    "### Dumping the JSON Data into a json file:"
   ]
  },
  {
   "cell_type": "code",
   "execution_count": null,
   "metadata": {},
   "outputs": [],
   "source": [
    "import json\n",
    "\n",
    "for player in players:\n",
    "\tname: str = player.data['identity']['name']\n",
    "\twith open(f'characters/{name}.json', 'w', encoding='utf-8') as f:\n",
    "\t\tjson.dump(player.data, f, ensure_ascii=False, indent=4)"
   ]
  },
  {
   "cell_type": "markdown",
   "metadata": {},
   "source": [
    "### working with that statistics data"
   ]
  },
  {
   "cell_type": "code",
   "execution_count": null,
   "metadata": {},
   "outputs": [],
   "source": [
    "# with open(f'{player_folder}/statistics', 'r+b') as fh:\n",
    "# \tstats = sb.read_sbvj01(fh)\n",
    "# \t# print(stats.data[\"stats\"][\"item.category.block\"])\n",
    "# \tblocks = stats.data[\"stats\"][\"item.category.block\"][\"value\"]\n",
    "# \tprint(f'You still got {10000000 - blocks} to go!')\n",
    "# \twith open('stats.json', 'w', encoding='utf-8') as f:\n",
    "# \t\tjson.dump(stats.data, f, ensure_ascii=False, indent=4)"
   ]
  },
  {
   "cell_type": "markdown",
   "metadata": {},
   "source": [
    "## Working with world files:\n",
    "\n",
    "We first load the worlds into an *global* array to not need to redo the file operations every time."
   ]
  },
  {
   "cell_type": "code",
   "execution_count": null,
   "metadata": {},
   "outputs": [],
   "source": [
    "import mmap\n",
    "\n",
    "worlds: list[sb.World] = []\n",
    "\n",
    "world_files = list(glob.iglob(f\"{universe_folder}/*_*_*.world\", recursive=True))\n",
    "for file in world_files:\n",
    "\twith open(file, 'r+b') as fh:\n",
    "\t\tmm: mmap = mmap.mmap(fh.fileno(), 0, access=mmap.ACCESS_READ)\n",
    "\t\tworld: sb.World = sb.World(mm)\n",
    "\t\tworld.read_metadata()\n",
    "\t\tworlds.append(world)"
   ]
  },
  {
   "cell_type": "markdown",
   "metadata": {},
   "source": [
    "### Printing all the important world details"
   ]
  },
  {
   "cell_type": "code",
   "execution_count": null,
   "metadata": {},
   "outputs": [],
   "source": [
    "from utils import strip_colors\n",
    "\n",
    "for world in worlds:\n",
    "\tprint(f'World Name: {strip_colors(world.info.name)}')\n",
    "\tprint(f'World size: {world.width}×{world.height}')\n",
    "\tprint(f'World Description: {world.info.description}')\n",
    "\tprint(80 * '-')"
   ]
  },
  {
   "cell_type": "markdown",
   "metadata": {},
   "source": [
    "### Getting the Amount of dungeons"
   ]
  },
  {
   "cell_type": "code",
   "execution_count": null,
   "metadata": {},
   "outputs": [],
   "source": [
    "known_dungeons: dict[str, int] = {}\n",
    "\n",
    "for world in worlds:\n",
    "\tdungeons: list[str] = world.info.dungeons\n",
    "\tprint(strip_colors(world.info.name), \":\", dungeons)\n",
    "\tfor dungeon in dungeons:\n",
    "\t\tif dungeon in known_dungeons:\n",
    "\t\t\tknown_dungeons[dungeon] = known_dungeons[dungeon] + 1\n",
    "\t\telse:\n",
    "\t\t\tknown_dungeons[dungeon] = 1\n",
    "\n",
    "dungeons = pd.Series(data=known_dungeons).explode().reset_index(name=\"times\").rename(columns={\"index\": \"dungeons\"}).sort_values(\"times\")\n",
    "\n",
    "sns.catplot(\n",
    "\tdata=dungeons,\n",
    "\tkind=\"bar\",\n",
    "\tx=\"times\",\n",
    "\ty=\"dungeons\",\n",
    "\theight=10\n",
    ")"
   ]
  },
  {
   "cell_type": "markdown",
   "metadata": {},
   "source": [
    "### Getting the Amount of biomes"
   ]
  },
  {
   "cell_type": "code",
   "execution_count": null,
   "metadata": {},
   "outputs": [],
   "source": [
    "\n",
    "known_biomes: dict[str, int]  = {}\n",
    "\n",
    "for world in worlds:\n",
    "\tbiomes: list[str] = world.info.biomes\n",
    "\tfor biome in biomes:\n",
    "\t\tif \"underground\" in biome or \"asteroids\" in biome or \"atmosphere\" in biome or \"core\" in biome or \"oceanfloor\" in biome or \"rust\" in biome:\n",
    "\t\t\tcontinue\n",
    "\t\tif biome in known_biomes:\n",
    "\t\t\tknown_biomes[biome] = known_biomes[biome] + 1\n",
    "\t\telse:\n",
    "\t\t\tknown_biomes[biome] = 1\n",
    "\n",
    "biomes = pd.Series(data=known_biomes).explode().reset_index(name=\"times\").rename(columns={\"index\": \"biomes\"}).sort_values(\"times\")\n",
    "\n",
    "sns.catplot(\n",
    "\tdata=biomes,\n",
    "\tkind=\"bar\",\n",
    "\tx=\"times\",\n",
    "\ty=\"biomes\",\n",
    "\theight=10\n",
    ")"
   ]
  },
  {
   "cell_type": "markdown",
   "metadata": {},
   "source": [
    "### Some world testing"
   ]
  },
  {
   "cell_type": "code",
   "execution_count": null,
   "metadata": {},
   "outputs": [],
   "source": [
    "from utils import strip_planet_number, list_to_str\n",
    "star_systems = {}\n",
    "\n",
    "for world in worlds:\n",
    "\tstar_name = strip_planet_number(world.info.name)\n",
    "\tif star_name in star_systems:\n",
    "\t\tstar_systems[star_name].append(world.info.description)\n",
    "\telse:\n",
    "\t\tstar_systems[star_name] = [world.info.description]\n",
    "\n",
    "for (system, level) in star_systems.items():\n",
    "\tprint(system, \"has:\", list_to_str(level, \", \"))"
   ]
  },
  {
   "cell_type": "markdown",
   "metadata": {},
   "source": [
    "### printing the names of where the biomes are and their location"
   ]
  },
  {
   "cell_type": "code",
   "execution_count": null,
   "metadata": {},
   "outputs": [],
   "source": [
    "from utils import strip_colors\n",
    "\n",
    "locations: dict[list[tuple[str, tuple[int, int]]]] = {}\n",
    "\n",
    "for world in worlds:\n",
    "\tbiomes: list[str] = world.info.biomes\n",
    "\tfor biome in biomes:\n",
    "\t\tif \"underground\" in biome or \"asteroids\" in biome or \"atmosphere\" in biome or \"core\" in biome or \"oceanfloor\" in biome or \"rust\" in biome:\n",
    "\t\t\tcontinue\n",
    "\t\tif biome in locations:\n",
    "\t\t\tlocations[biome].append((strip_colors(world.info.name), (world.info.coords[0], world.info.coords[1])))\n",
    "\t\telse:\n",
    "\t\t\tlocations[biome] = [(strip_colors(world.info.name), (world.info.coords[0], world.info.coords[1]))]\n",
    "\n",
    "print(locations)\n",
    "for loc in locations:\n",
    "\tprint(loc)\n",
    "\tfor n,_ in locations[loc]:\n",
    "\t\tprint(4*\" \", n)"
   ]
  },
  {
   "cell_type": "markdown",
   "metadata": {},
   "source": [
    "## Printing csv files to use in a spreadsheet program"
   ]
  },
  {
   "cell_type": "markdown",
   "metadata": {},
   "source": [
    "### starting with the dungeon data"
   ]
  },
  {
   "cell_type": "code",
   "execution_count": null,
   "metadata": {},
   "outputs": [],
   "source": [
    "known_dungeons: dict[str, tuple[str, dict[str, int]]] = {}\n",
    "\n",
    "for world in worlds:\n",
    "    dungeons: list[str] = world.info.dungeons\n",
    "    tier: str = world.info.description.split()[1]\n",
    "    if tier not in [\"1\", \"2\", \"3\", \"4\", \"5\", \"6\"]:\n",
    "        continue\n",
    "    for dungeon in dungeons:\n",
    "        if dungeon in known_dungeons:\n",
    "            if f\"Level {tier}\" in known_dungeons[dungeon]:\n",
    "                known_dungeons[dungeon][f\"Level {tier}\"] = known_dungeons[dungeon][f\"Level {tier}\"] + 1\n",
    "            else:\n",
    "                known_dungeons[dungeon][f\"Level {tier}\"] =  1\n",
    "        else:\n",
    "            known_dungeons[dungeon] = {\"Level 1\": 0, \"Level 2\": 0, \"Level 3\": 0, \"Level 4\": 0, \"Level 5\": 0, \"Level 6\": 0}\n",
    "            known_dungeons[dungeon][f\"Level {tier}\"] = 1\n",
    "\n",
    "dungeons = pd.DataFrame.from_dict(data=known_dungeons).transpose().sort_index()\n",
    "\n",
    "dungeons.plot(kind=\"bar\", stacked=True)\n",
    "\n",
    "dungeons = dungeons.reset_index().rename(columns={\"index\": \"Dungeons\"})\n",
    "dungeons.to_csv('spreadsheet/dungeons.csv', index=False)"
   ]
  },
  {
   "cell_type": "markdown",
   "metadata": {},
   "source": [
    "### further with the biome data"
   ]
  },
  {
   "cell_type": "code",
   "execution_count": null,
   "metadata": {},
   "outputs": [],
   "source": [
    "known_biomes: dict[str, int]  = {}\n",
    "\n",
    "for world in worlds:\n",
    "    biomes: list[str] = world.info.biomes\n",
    "    tier: str = world.info.description.split()[1]\n",
    "    if tier not in [\"1\", \"2\", \"3\", \"4\", \"5\", \"6\"]:\n",
    "        continue\n",
    "    for biome in biomes:\n",
    "        if \"underground\" in biome or \"asteroids\" in biome or \"atmosphere\" in biome or \"core\" in biome or \"oceanfloor\" in biome or \"rust\" in biome:\n",
    "            continue\n",
    "        if biome in known_biomes:\n",
    "            if f\"Level {tier}\" in known_biomes[biome]:\n",
    "                known_biomes[biome][f\"Level {tier}\"] = known_biomes[biome][f\"Level {tier}\"] + 1\n",
    "            else:\n",
    "                known_biomes[biome][f\"Level {tier}\"] =  1\n",
    "        else:\n",
    "            known_biomes[biome] = {\"Level 1\": 0, \"Level 2\": 0, \"Level 3\": 0, \"Level 4\": 0, \"Level 5\": 0, \"Level 6\": 0}\n",
    "            known_biomes[biome][f\"Level {tier}\"] = 1\n",
    "\n",
    "biomes = pd.DataFrame.from_dict(data=known_biomes).transpose().sort_index()\n",
    "\n",
    "biomes.plot(kind=\"bar\", stacked=True)\n",
    "\n",
    "biomes = pd.DataFrame.from_dict(data=known_biomes).transpose().sort_index().reset_index().rename(columns={\"index\": \"Biomes\"})\n",
    "biomes.to_csv('spreadsheet/biomes.csv', index=False)"
   ]
  }
 ],
 "metadata": {
  "kernelspec": {
   "display_name": "Python 3",
   "language": "python",
   "name": "python3"
  },
  "language_info": {
   "codemirror_mode": {
    "name": "ipython",
    "version": 3
   },
   "file_extension": ".py",
   "mimetype": "text/x-python",
   "name": "python",
   "nbconvert_exporter": "python",
   "pygments_lexer": "ipython3",
   "version": "3.13.5"
  }
 },
 "nbformat": 4,
 "nbformat_minor": 2
}
