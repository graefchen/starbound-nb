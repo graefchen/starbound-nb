{
 "cells": [
  {
   "cell_type": "markdown",
   "id": "9dfc81c6",
   "metadata": {},
   "source": [
    "# statistics\n",
    "\n",
    "first importing the needed and important files"
   ]
  },
  {
   "cell_type": "code",
   "execution_count": null,
   "id": "e53078ef",
   "metadata": {},
   "outputs": [],
   "source": [
    "import starbound as sb\n",
    "import configparser\n",
    "import json"
   ]
  },
  {
   "cell_type": "code",
   "execution_count": null,
   "id": "42b4b2ef",
   "metadata": {},
   "outputs": [],
   "source": [
    "config: configparser.ConfigParser = configparser.ConfigParser()\n",
    "config.read(\"config.ini\")\n",
    "\n",
    "starbound_src_folder: str = config.get('src', 'folder')\n",
    "player_folder: str = f\"{starbound_src_folder}/storage/player\""
   ]
  },
  {
   "cell_type": "code",
   "execution_count": null,
   "id": "51d49432",
   "metadata": {},
   "outputs": [],
   "source": [
    "with open(f'{player_folder}/statistics', 'r+b') as fh:\n",
    "\tstats = sb.read_sbvj01(fh)\n",
    "\t# print(stats.data[\"stats\"][\"item.category.block\"])\n",
    "\tblocks = stats.data[\"stats\"][\"item.category.block\"][\"value\"]\n",
    "\tprint(f'You still got {10_000_000 - blocks} to go!')\n",
    "\twith open('stats.json', 'w', encoding='utf-8') as f:\n",
    "\t\tjson.dump(stats.data, f, ensure_ascii=False, indent=4)"
   ]
  }
 ],
 "metadata": {
  "language_info": {
   "name": "python"
  }
 },
 "nbformat": 4,
 "nbformat_minor": 5
}
